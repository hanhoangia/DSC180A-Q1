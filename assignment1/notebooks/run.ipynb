{
 "cells": [
  {
   "cell_type": "code",
   "execution_count": 1,
   "metadata": {},
   "outputs": [],
   "source": [
    "import pandas as pd\n",
    "import networkx as nx\n",
    "import my_funcs as fs\n",
    "from my_funcs import *"
   ]
  },
  {
   "cell_type": "markdown",
   "metadata": {},
   "source": [
    "# Load Data"
   ]
  },
  {
   "cell_type": "code",
   "execution_count": 2,
   "metadata": {},
   "outputs": [],
   "source": [
    "stations = fs.stations\n",
    "ridership = fs.ridership"
   ]
  },
  {
   "cell_type": "code",
   "execution_count": 3,
   "metadata": {},
   "outputs": [
    {
     "data": {
      "text/html": [
       "<div>\n",
       "<style scoped>\n",
       "    .dataframe tbody tr th:only-of-type {\n",
       "        vertical-align: middle;\n",
       "    }\n",
       "\n",
       "    .dataframe tbody tr th {\n",
       "        vertical-align: top;\n",
       "    }\n",
       "\n",
       "    .dataframe thead th {\n",
       "        text-align: right;\n",
       "    }\n",
       "</style>\n",
       "<table border=\"1\" class=\"dataframe\">\n",
       "  <thead>\n",
       "    <tr style=\"text-align: right;\">\n",
       "      <th></th>\n",
       "      <th>Complex ID</th>\n",
       "      <th>Stop Name</th>\n",
       "      <th>Borough</th>\n",
       "    </tr>\n",
       "  </thead>\n",
       "  <tbody>\n",
       "    <tr>\n",
       "      <th>0</th>\n",
       "      <td>1</td>\n",
       "      <td>Astoria-Ditmars Blvd</td>\n",
       "      <td>Q</td>\n",
       "    </tr>\n",
       "    <tr>\n",
       "      <th>1</th>\n",
       "      <td>2</td>\n",
       "      <td>Astoria Blvd</td>\n",
       "      <td>Q</td>\n",
       "    </tr>\n",
       "    <tr>\n",
       "      <th>2</th>\n",
       "      <td>3</td>\n",
       "      <td>30 Av</td>\n",
       "      <td>Q</td>\n",
       "    </tr>\n",
       "    <tr>\n",
       "      <th>3</th>\n",
       "      <td>4</td>\n",
       "      <td>Broadway</td>\n",
       "      <td>Q</td>\n",
       "    </tr>\n",
       "    <tr>\n",
       "      <th>4</th>\n",
       "      <td>5</td>\n",
       "      <td>36 Av</td>\n",
       "      <td>Q</td>\n",
       "    </tr>\n",
       "  </tbody>\n",
       "</table>\n",
       "</div>"
      ],
      "text/plain": [
       "   Complex ID             Stop Name Borough\n",
       "0           1  Astoria-Ditmars Blvd       Q\n",
       "1           2          Astoria Blvd       Q\n",
       "2           3                 30 Av       Q\n",
       "3           4              Broadway       Q\n",
       "4           5                 36 Av       Q"
      ]
     },
     "execution_count": 3,
     "metadata": {},
     "output_type": "execute_result"
    }
   ],
   "source": [
    "stations.head()"
   ]
  },
  {
   "cell_type": "code",
   "execution_count": 4,
   "metadata": {},
   "outputs": [
    {
     "data": {
      "text/html": [
       "<div>\n",
       "<style scoped>\n",
       "    .dataframe tbody tr th:only-of-type {\n",
       "        vertical-align: middle;\n",
       "    }\n",
       "\n",
       "    .dataframe tbody tr th {\n",
       "        vertical-align: top;\n",
       "    }\n",
       "\n",
       "    .dataframe thead th {\n",
       "        text-align: right;\n",
       "    }\n",
       "</style>\n",
       "<table border=\"1\" class=\"dataframe\">\n",
       "  <thead>\n",
       "    <tr style=\"text-align: right;\">\n",
       "      <th></th>\n",
       "      <th>Origin Station Complex ID</th>\n",
       "      <th>Origin Station Complex Name</th>\n",
       "      <th>Destination Station Complex ID</th>\n",
       "      <th>Destination Station Complex Name</th>\n",
       "      <th>Estimated Average Ridership</th>\n",
       "      <th>Day of Week</th>\n",
       "      <th>Hour of Day</th>\n",
       "    </tr>\n",
       "  </thead>\n",
       "  <tbody>\n",
       "    <tr>\n",
       "      <th>0</th>\n",
       "      <td>26</td>\n",
       "      <td>DeKalb Av (B,Q,R)</td>\n",
       "      <td>355</td>\n",
       "      <td>Winthrop St (2,5)</td>\n",
       "      <td>0.5556</td>\n",
       "      <td>Monday</td>\n",
       "      <td>1</td>\n",
       "    </tr>\n",
       "    <tr>\n",
       "      <th>1</th>\n",
       "      <td>231</td>\n",
       "      <td>Grand St (B,D)</td>\n",
       "      <td>284</td>\n",
       "      <td>Nassau Av (G)</td>\n",
       "      <td>0.3068</td>\n",
       "      <td>Monday</td>\n",
       "      <td>1</td>\n",
       "    </tr>\n",
       "    <tr>\n",
       "      <th>2</th>\n",
       "      <td>313</td>\n",
       "      <td>72 St (1,2,3)</td>\n",
       "      <td>71</td>\n",
       "      <td>8 Av (N)</td>\n",
       "      <td>0.3012</td>\n",
       "      <td>Monday</td>\n",
       "      <td>1</td>\n",
       "    </tr>\n",
       "    <tr>\n",
       "      <th>3</th>\n",
       "      <td>320</td>\n",
       "      <td>23 St (1)</td>\n",
       "      <td>309</td>\n",
       "      <td>103 St (1)</td>\n",
       "      <td>0.9000</td>\n",
       "      <td>Monday</td>\n",
       "      <td>1</td>\n",
       "    </tr>\n",
       "    <tr>\n",
       "      <th>4</th>\n",
       "      <td>399</td>\n",
       "      <td>68 St-Hunter College (6)</td>\n",
       "      <td>618</td>\n",
       "      <td>14 St (A,C,E)/8 Av (L)</td>\n",
       "      <td>0.2940</td>\n",
       "      <td>Monday</td>\n",
       "      <td>1</td>\n",
       "    </tr>\n",
       "  </tbody>\n",
       "</table>\n",
       "</div>"
      ],
      "text/plain": [
       "   Origin Station Complex ID Origin Station Complex Name  \\\n",
       "0                         26           DeKalb Av (B,Q,R)   \n",
       "1                        231              Grand St (B,D)   \n",
       "2                        313               72 St (1,2,3)   \n",
       "3                        320                   23 St (1)   \n",
       "4                        399    68 St-Hunter College (6)   \n",
       "\n",
       "   Destination Station Complex ID Destination Station Complex Name  \\\n",
       "0                             355                Winthrop St (2,5)   \n",
       "1                             284                    Nassau Av (G)   \n",
       "2                              71                         8 Av (N)   \n",
       "3                             309                       103 St (1)   \n",
       "4                             618           14 St (A,C,E)/8 Av (L)   \n",
       "\n",
       "   Estimated Average Ridership Day of Week  Hour of Day  \n",
       "0                       0.5556      Monday            1  \n",
       "1                       0.3068      Monday            1  \n",
       "2                       0.3012      Monday            1  \n",
       "3                       0.9000      Monday            1  \n",
       "4                       0.2940      Monday            1  "
      ]
     },
     "execution_count": 4,
     "metadata": {},
     "output_type": "execute_result"
    }
   ],
   "source": [
    "ridership.head()"
   ]
  },
  {
   "cell_type": "markdown",
   "metadata": {},
   "source": [
    "# Question 1: Find the top 5 origin sub-way stations from where most riders took subway ride"
   ]
  },
  {
   "cell_type": "markdown",
   "metadata": {},
   "source": [
    "## Question 1A: Across each borough (Manhattan, Brooklyn, Queens, Bronx, State Island)"
   ]
  },
  {
   "cell_type": "code",
   "execution_count": 5,
   "metadata": {},
   "outputs": [
    {
     "name": "stdout",
     "output_type": "stream",
     "text": [
      "Top 5 origin stations in M: Times Sq-42 St, 14 St-Union Sq, Grand Central-42 St, 34 St-Herald Sq, Fulton St\n",
      "Top 5 origin stations in Bk: Atlantic Av-Barclays Ctr, Jay St-MetroTech, Bedford Av, Borough Hall, Myrtle-Wyckoff Avs\n",
      "Top 5 origin stations in Q: 74 St-Broadway, Flushing-Main St, Sutphin Blvd-Archer Av-JFK Airport, Jamaica Center-Parsons/Archer, Court Sq\n",
      "Top 5 origin stations in Bx: 161 St-Yankee Stadium, 3 Av-149 St, 149 St-Grand Concourse, Parkchester, Fordham Rd\n",
      "Top 5 origin stations in SI: No stations found\n"
     ]
    }
   ],
   "source": [
    "boroughs = ['M', 'Bk', 'Q', 'Bx', 'SI']\n",
    "\n",
    "top_5_origin_stations = []\n",
    "for borough in boroughs:\n",
    "    in_borough_id = stations[stations['Borough'] == borough]['Complex ID'].unique()\n",
    "    \n",
    "    top_5_origin_station = computeSumOutDegreeEdgeWeights(ridership[ridership['Origin Station Complex ID'].isin(in_borough_id)])\n",
    "    print(f\"Top 5 origin stations in {borough}:\", top_5_origin_station)\n",
    "    top_5_origin_stations.append(top_5_origin_station)"
   ]
  },
  {
   "cell_type": "markdown",
   "metadata": {},
   "source": [
    "## Question 1B: On Monday, Tuesday, Wednesday (combined)"
   ]
  },
  {
   "cell_type": "code",
   "execution_count": 6,
   "metadata": {},
   "outputs": [
    {
     "data": {
      "text/plain": [
       "'Times Sq-42 St, Grand Central-42 St, 14 St-Union Sq, 34 St-Herald Sq, Fulton St'"
      ]
     },
     "execution_count": 6,
     "metadata": {},
     "output_type": "execute_result"
    }
   ],
   "source": [
    "question_1b = computeSumOutDegreeEdgeWeights(ridership[ridership['Day of Week'].isin(['Monday', 'Tuesday', 'Wednesday'])])\n",
    "question_1b"
   ]
  },
  {
   "cell_type": "markdown",
   "metadata": {},
   "source": [
    "## Question 1C: On Saturday and Sunday (combined)"
   ]
  },
  {
   "cell_type": "code",
   "execution_count": 7,
   "metadata": {},
   "outputs": [
    {
     "data": {
      "text/plain": [
       "'Times Sq-42 St, 14 St-Union Sq, 34 St-Herald Sq, Grand Central-42 St, Fulton St'"
      ]
     },
     "execution_count": 7,
     "metadata": {},
     "output_type": "execute_result"
    }
   ],
   "source": [
    "question_1c = computeSumOutDegreeEdgeWeights(ridership[ridership['Day of Week'].isin(['Saturday', 'Sunday'])])\n",
    "question_1c"
   ]
  },
  {
   "cell_type": "markdown",
   "metadata": {},
   "source": [
    "## Question 1D: Between 1am-5am across all days and boroughs"
   ]
  },
  {
   "cell_type": "code",
   "execution_count": 8,
   "metadata": {},
   "outputs": [
    {
     "data": {
      "text/plain": [
       "'Times Sq-42 St, 34 St-Herald Sq, 14 St-Union Sq, W 4 St-Wash Sq, 74 St-Broadway'"
      ]
     },
     "execution_count": 8,
     "metadata": {},
     "output_type": "execute_result"
    }
   ],
   "source": [
    "question_1d = computeSumOutDegreeEdgeWeights(ridership[ridership['Hour of Day'].isin([1, 2, 3, 4])])\n",
    "question_1d"
   ]
  },
  {
   "cell_type": "markdown",
   "metadata": {},
   "source": [
    "## Question 1E: Between 6am-9am across all days and boroughs"
   ]
  },
  {
   "cell_type": "code",
   "execution_count": 9,
   "metadata": {},
   "outputs": [
    {
     "data": {
      "text/plain": [
       "'Times Sq-42 St, 74 St-Broadway, Grand Central-42 St, Fulton St, Flushing-Main St'"
      ]
     },
     "execution_count": 9,
     "metadata": {},
     "output_type": "execute_result"
    }
   ],
   "source": [
    "question_1e = computeSumOutDegreeEdgeWeights(ridership[ridership['Hour of Day'].isin([6, 7, 8])])\n",
    "question_1e"
   ]
  },
  {
   "cell_type": "markdown",
   "metadata": {},
   "source": [
    "# Question 2: Find the top 5 destination sub-way stations from where most riders took subway ride"
   ]
  },
  {
   "cell_type": "markdown",
   "metadata": {},
   "source": [
    "## Question 2A: Across each borough (Manhattan, Brooklyn, Queens, Bronx, State Island)"
   ]
  },
  {
   "cell_type": "code",
   "execution_count": 10,
   "metadata": {},
   "outputs": [
    {
     "name": "stdout",
     "output_type": "stream",
     "text": [
      "Top 5 destination stations in M: Times Sq-42 St, Grand Central-42 St, 34 St-Herald Sq, 14 St-Union Sq, Fulton St\n",
      "Top 5 destination stations in Bk: Atlantic Av-Barclays Ctr, Jay St-MetroTech, Bedford Av, Borough Hall, Crown Hts-Utica Av\n",
      "Top 5 destination stations in Q: 74 St-Broadway, Flushing-Main St, Sutphin Blvd-Archer Av-JFK Airport, Jamaica Center-Parsons/Archer, Court Sq\n",
      "Top 5 destination stations in Bx: 161 St-Yankee Stadium, 3 Av-149 St, 149 St-Grand Concourse, Parkchester, Fordham Rd\n",
      "Top 5 destination stations in SI: No stations found\n"
     ]
    }
   ],
   "source": [
    "boroughs = ['M', 'Bk', 'Q', 'Bx', 'SI']\n",
    "\n",
    "top_5_dest_stations = []\n",
    "for borough in boroughs:\n",
    "    in_borough_id = stations[stations['Borough'] == borough]['Complex ID'].unique()\n",
    "    \n",
    "    top_5_dest_station = computeSumInDegreeEdgeWeights(ridership[ridership['Destination Station Complex ID'].isin(in_borough_id)])\n",
    "    print(f\"Top 5 destination stations in {borough}:\", top_5_dest_station)\n",
    "    top_5_dest_stations.append(top_5_dest_station)"
   ]
  },
  {
   "cell_type": "markdown",
   "metadata": {},
   "source": [
    "## Question 2B: On Thursday and Friday (combined)"
   ]
  },
  {
   "cell_type": "code",
   "execution_count": 11,
   "metadata": {},
   "outputs": [
    {
     "data": {
      "text/plain": [
       "'Times Sq-42 St, Grand Central-42 St, 34 St-Herald Sq, 14 St-Union Sq, Fulton St'"
      ]
     },
     "execution_count": 11,
     "metadata": {},
     "output_type": "execute_result"
    }
   ],
   "source": [
    "question_2b = computeSumInDegreeEdgeWeights(ridership[ridership['Day of Week'].isin(['Monday', 'Tuesday', 'Wednesday'])])\n",
    "question_2b"
   ]
  },
  {
   "cell_type": "markdown",
   "metadata": {},
   "source": [
    "## Question 2C: On Saturday only"
   ]
  },
  {
   "cell_type": "code",
   "execution_count": 12,
   "metadata": {},
   "outputs": [
    {
     "data": {
      "text/plain": [
       "'Times Sq-42 St, 34 St-Herald Sq, 14 St-Union Sq, Grand Central-42 St, 34 St-Penn Station'"
      ]
     },
     "execution_count": 12,
     "metadata": {},
     "output_type": "execute_result"
    }
   ],
   "source": [
    "question_2c = computeSumInDegreeEdgeWeights(ridership[ridership['Day of Week'] == 'Saturday'])\n",
    "question_2c"
   ]
  },
  {
   "cell_type": "markdown",
   "metadata": {},
   "source": [
    "## Question 2D: Between 12am-5am across all days and boroughs"
   ]
  },
  {
   "cell_type": "code",
   "execution_count": 13,
   "metadata": {},
   "outputs": [
    {
     "data": {
      "text/plain": [
       "'Times Sq-42 St, Grand Central-42 St, 34 St-Herald Sq, 74 St-Broadway, 34 St-Penn Station'"
      ]
     },
     "execution_count": 13,
     "metadata": {},
     "output_type": "execute_result"
    }
   ],
   "source": [
    "question_2d = computeSumInDegreeEdgeWeights(ridership[ridership['Hour of Day'].isin([0, 1, 2, 3, 4])])\n",
    "question_2d"
   ]
  },
  {
   "cell_type": "markdown",
   "metadata": {},
   "source": [
    "## Question 2E: Between 6pm-9pm across all days and boroughs"
   ]
  },
  {
   "cell_type": "code",
   "execution_count": 14,
   "metadata": {},
   "outputs": [
    {
     "data": {
      "text/plain": [
       "'Times Sq-42 St, 14 St-Union Sq, 34 St-Herald Sq, Grand Central-42 St, Fulton St'"
      ]
     },
     "execution_count": 14,
     "metadata": {},
     "output_type": "execute_result"
    }
   ],
   "source": [
    "question_2e = computeSumInDegreeEdgeWeights(ridership[ridership['Hour of Day'].isin([18, 19, 20])])\n",
    "question_2e"
   ]
  },
  {
   "cell_type": "markdown",
   "metadata": {},
   "source": [
    "# Question 3: Find the top 10 congested source-destination sub-way stations pair"
   ]
  },
  {
   "cell_type": "code",
   "execution_count": 15,
   "metadata": {},
   "outputs": [],
   "source": [
    "# Get the unique station IDs for each borough\n",
    "in_brooklyn = stations[stations['Borough'] == 'Bk']['Complex ID'].unique()\n",
    "in_queens = stations[stations['Borough'] == 'Q']['Complex ID'].unique()\n",
    "in_manhattan = stations[stations['Borough'] == 'M']['Complex ID'].unique()\n",
    "in_bronx = stations[stations['Borough'] == 'Bx']['Complex ID'].unique()\n",
    "in_si = stations[stations['Borough'] == 'SI']['Complex ID'].unique()"
   ]
  },
  {
   "cell_type": "markdown",
   "metadata": {},
   "source": [
    "## Question 3A: On Monday between 1pm-2pm"
   ]
  },
  {
   "cell_type": "code",
   "execution_count": 16,
   "metadata": {},
   "outputs": [
    {
     "name": "stdout",
     "output_type": "stream",
     "text": [
      "14 St-Union Sq - Grand Central-42 St\n",
      "Flushing-Main St - Junction Blvd\n",
      "Grand Central-42 St - Fulton St\n",
      "Grand Central-42 St - Times Sq-42 St\n",
      "Flushing-Main St - 74 St-Broadway\n",
      "86 St - Grand Central-42 St\n",
      "Flushing-Main St - 103 St-Corona Plaza\n",
      "14 St-Union Sq - Times Sq-42 St\n",
      "Times Sq-42 St - 59 St-Columbus Circle\n",
      "Times Sq-42 St - Fulton St\n"
     ]
    }
   ],
   "source": [
    "question_3a = computeSumEdgeWeights(ridership[(ridership['Day of Week'] == 'Monday') & (ridership['Hour of Day'] == 13)])\n",
    "print(question_3a)"
   ]
  },
  {
   "cell_type": "markdown",
   "metadata": {},
   "source": [
    "## Question 3B: On Queens borough, on Fridays between 6pm-9pm"
   ]
  },
  {
   "cell_type": "code",
   "execution_count": 17,
   "metadata": {},
   "outputs": [
    {
     "name": "stdout",
     "output_type": "stream",
     "text": [
      "Flushing-Main St - Junction Blvd\n",
      "Flushing-Main St - 74 St-Broadway\n",
      "Flushing-Main St - 103 St-Corona Plaza\n",
      "Flushing-Main St - 90 St-Elmhurst Av\n",
      "Flushing-Main St - 82 St-Jackson Hts\n",
      "Kew Gardens-Union Tpke - 74 St-Broadway\n",
      "Jamaica-179 St - 74 St-Broadway\n",
      "Junction Blvd - 74 St-Broadway\n",
      "Forest Hills-71 Av - 74 St-Broadway\n",
      "Sutphin Blvd-Archer Av-JFK Airport - 74 St-Broadway\n"
     ]
    }
   ],
   "source": [
    "subset = ridership[(ridership['Origin Station Complex ID'].isin(in_queens)\n",
    "                    & ridership['Destination Station Complex ID'].isin(in_queens)) \n",
    "                    & (ridership['Day of Week'] == 'Friday') \n",
    "                    & (ridership['Hour of Day'].isin([18, 19, 20]))]\n",
    "\n",
    "question_3b = computeSumEdgeWeights(subset)\n",
    "print(question_3b)"
   ]
  },
  {
   "cell_type": "markdown",
   "metadata": {},
   "source": [
    "## Question 3C: On Brooklyn borough, Ridership between 1am-5am"
   ]
  },
  {
   "cell_type": "code",
   "execution_count": 18,
   "metadata": {},
   "outputs": [
    {
     "name": "stdout",
     "output_type": "stream",
     "text": [
      "Bedford Av - Myrtle-Wyckoff Avs\n",
      "Bedford Av - Jefferson St\n",
      "Bedford Av - DeKalb Av\n",
      "36 St - Atlantic Av-Barclays Ctr\n",
      "Lorimer St - Myrtle-Wyckoff Avs\n",
      "Jefferson St - Lorimer St\n",
      "Jefferson St - Myrtle-Wyckoff Avs\n",
      "DeKalb Av - Lorimer St\n",
      "Crown Hts-Utica Av - Atlantic Av-Barclays Ctr\n",
      "Flatbush Av-Brooklyn College - Atlantic Av-Barclays Ctr\n"
     ]
    }
   ],
   "source": [
    "subset = ridership[(ridership['Origin Station Complex ID'].isin(in_brooklyn))\n",
    "                    & (ridership['Destination Station Complex ID'].isin(in_brooklyn)) \n",
    "                    & (ridership['Hour of Day'].isin([1, 2, 3, 4]))]\n",
    "\n",
    "question_3c = computeSumEdgeWeights(subset)\n",
    "print(question_3c)"
   ]
  },
  {
   "cell_type": "markdown",
   "metadata": {},
   "source": [
    "## Question 3D: Source is Brooklyn, Destination is Manhattan, Monday-Thursday 6am-7am"
   ]
  },
  {
   "cell_type": "code",
   "execution_count": 19,
   "metadata": {},
   "outputs": [
    {
     "name": "stdout",
     "output_type": "stream",
     "text": [
      "Atlantic Av-Barclays Ctr - Bowling Green\n",
      "Crown Hts-Utica Av - Grand Central-42 St\n",
      "Flatbush Av-Brooklyn College - Grand Central-42 St\n",
      "Kings Hwy - 34 St-Herald Sq\n",
      "Crown Hts-Utica Av - Fulton St\n",
      "Flatbush Av-Brooklyn College - Fulton St\n",
      "Crown Hts-Utica Av - 86 St\n",
      "Kings Hwy - 47-50 Sts-Rockefeller Ctr\n",
      "Kings Hwy - 72 St\n",
      "Crown Hts-Utica Av - 14 St-Union Sq\n"
     ]
    }
   ],
   "source": [
    "subset = ridership[(ridership['Origin Station Complex ID'].isin(in_brooklyn))\n",
    "                    & (ridership['Destination Station Complex ID'].isin(in_manhattan)) \n",
    "                    & (ridership['Day of Week'].isin(['Monday', 'Tuesday', 'Wednesday', 'Thursday']))\n",
    "                    & (ridership['Hour of Day'] == 6)]\n",
    "\n",
    "question_3d = computeSumEdgeWeights(subset)\n",
    "print(question_3d)"
   ]
  },
  {
   "cell_type": "markdown",
   "metadata": {},
   "source": [
    "## Question 3E: Where source is Bronx, Destination is Manhattan, Monday-Thursday 6am-7am"
   ]
  },
  {
   "cell_type": "code",
   "execution_count": 20,
   "metadata": {},
   "outputs": [
    {
     "name": "stdout",
     "output_type": "stream",
     "text": [
      "Parkchester - Grand Central-42 St\n",
      "Parkchester - 125 St\n",
      "Parkchester - 68 St-Hunter College\n",
      "Parkchester - 86 St\n",
      "Parkchester - Fulton St\n",
      "Parkchester - 51 St\n",
      "Woodlawn - 86 St\n",
      "3 Av-149 St - Grand Central-42 St\n",
      "Parkchester - Brooklyn Bridge-City Hall\n",
      "161 St-Yankee Stadium - 34 St-Herald Sq\n"
     ]
    }
   ],
   "source": [
    "subset = ridership[(ridership['Origin Station Complex ID'].isin(in_bronx))\n",
    "                    & (ridership['Destination Station Complex ID'].isin(in_manhattan)) \n",
    "                    & (ridership['Day of Week'].isin(['Monday', 'Tuesday', 'Wednesday', 'Thursday']))\n",
    "                    & (ridership['Hour of Day'] == 6)]   \n",
    "\n",
    "question_3e = computeSumEdgeWeights(subset)\n",
    "print(question_3e)"
   ]
  },
  {
   "cell_type": "markdown",
   "metadata": {},
   "source": [
    "## Question 3F: Where source is Staten Island, Destination is Manhattan, Monday-Thursday 6am-7am"
   ]
  },
  {
   "cell_type": "code",
   "execution_count": 21,
   "metadata": {},
   "outputs": [
    {
     "data": {
      "text/plain": [
       "'No pairs found'"
      ]
     },
     "execution_count": 21,
     "metadata": {},
     "output_type": "execute_result"
    }
   ],
   "source": [
    "subset = ridership[(ridership['Origin Station Complex ID'].isin(in_si))\n",
    "                    & (ridership['Destination Station Complex ID'].isin(in_manhattan)) \n",
    "                    & (ridership['Day of Week'].isin(['Monday', 'Tuesday', 'Wednesday', 'Thursday']))\n",
    "                    & (ridership['Hour of Day'] == 6)]\n",
    "\n",
    "question_3f = computeSumEdgeWeights(subset)\n",
    "question_3f"
   ]
  }
 ],
 "metadata": {
  "kernelspec": {
   "display_name": "test",
   "language": "python",
   "name": "python3"
  },
  "language_info": {
   "codemirror_mode": {
    "name": "ipython",
    "version": 3
   },
   "file_extension": ".py",
   "mimetype": "text/x-python",
   "name": "python",
   "nbconvert_exporter": "python",
   "pygments_lexer": "ipython3",
   "version": "3.12.7"
  }
 },
 "nbformat": 4,
 "nbformat_minor": 2
}
