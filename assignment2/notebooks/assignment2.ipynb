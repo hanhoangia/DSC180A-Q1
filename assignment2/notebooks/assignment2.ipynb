{
 "cells": [
  {
   "cell_type": "code",
   "execution_count": 1,
   "metadata": {},
   "outputs": [],
   "source": [
    "# Import necessary libraries\n",
    "import os\n",
    "import gzip\n",
    "import json\n",
    "import numpy as np\n",
    "import pandas as pd\n",
    "import torch\n",
    "import torch.nn as nn\n",
    "import torch.nn.functional as F\n",
    "from torch_geometric.data import Data\n",
    "from sklearn.preprocessing import MinMaxScaler, OneHotEncoder\n",
    "from scipy.sparse import coo_matrix\n",
    "import sys\n",
    "from sklearn.model_selection import KFold\n",
    "sys.path.append('../src/')  # Add the subdirectory to the Python path\n",
    "from dataloader import create_data\n",
    "from dehnn import DEHNN\n",
    "from crossvalidate import cross_validate"
   ]
  },
  {
   "cell_type": "code",
   "execution_count": 2,
   "metadata": {},
   "outputs": [],
   "source": [
    "hidden_channels = 64\n",
    "out_channels = 1\n",
    "num_layers = 1"
   ]
  },
  {
   "cell_type": "code",
   "execution_count": 3,
   "metadata": {},
   "outputs": [],
   "source": [
    "def single_design_dehnn(design_number):\n",
    "    instances, hypergraph_data = create_data(design_number)\n",
    "    len_instances = len(instances)\n",
    "    model = DEHNN(in_channels=hypergraph_data.num_node_features, hidden_channels=hidden_channels,\n",
    "                   out_channels=out_channels, num_layers=num_layers, len_instances=len_instances)\n",
    "    cross_val_rmse_score, cross_val_mae_score = cross_validate(instances, hypergraph_data.x, hypergraph_data.edge_index, hypergraph_data.y, model)\n",
    "\n",
    "    return cross_val_rmse_score, cross_val_mae_score"
   ]
  },
  {
   "cell_type": "code",
   "execution_count": null,
   "metadata": {},
   "outputs": [
    {
     "name": "stdout",
     "output_type": "stream",
     "text": [
      "Design 1\n",
      "Across folds, mean RMSE: 3.5496, mean MAE: 2.6459\n",
      "Design 2\n",
      "Across folds, mean RMSE: 7.7350, mean MAE: 5.9329\n",
      "Design 3\n",
      "Across folds, mean RMSE: 6.9895, mean MAE: 5.4906\n",
      "Design 4\n",
      "Across folds, mean RMSE: 6.9239, mean MAE: 5.4590\n",
      "Design 5\n",
      "Across folds, mean RMSE: 7.0199, mean MAE: 5.5312\n",
      "Design 6\n",
      "Across folds, mean RMSE: 5.8650, mean MAE: 4.4975\n",
      "Design 7\n",
      "Across folds, mean RMSE: 6.4723, mean MAE: 5.0729\n",
      "Design 8\n",
      "Across folds, mean RMSE: 6.0817, mean MAE: 4.7256\n",
      "Design 9\n",
      "Across folds, mean RMSE: 6.1355, mean MAE: 4.7582\n",
      "Design 10\n",
      "Across folds, mean RMSE: 5.8268, mean MAE: 4.5928\n",
      "Design 11\n",
      "Across folds, mean RMSE: 6.1349, mean MAE: 4.7867\n",
      "Design 12\n",
      "Across folds, mean RMSE: 6.4958, mean MAE: 5.0285\n",
      "Design 13\n",
      "Across folds, mean RMSE: 6.2832, mean MAE: 4.9847\n",
      "Across all designs, mean RMSE: 6.2703, mean MAE: 4.8851\n"
     ]
    }
   ],
   "source": [
    "# Train and evaluate De-HNN on all 13 designs\n",
    "cross_val_scores = []\n",
    "\n",
    "for design_number in range(1, 14):\n",
    "    print(f\"Design {design_number}\")\n",
    "    cross_val_score = single_design_dehnn(design_number)\n",
    "    cross_val_scores.append(cross_val_score)\n",
    "\n",
    "average_cross_val_rmses = np.mean([score[0] for score in cross_val_scores])\n",
    "average_cross_val_maes = np.mean([score[1] for score in cross_val_scores])\n",
    "print(f\"Across all designs, mean RMSE: {average_cross_val_rmses:.4f}, mean MAE: {average_cross_val_maes:.4f}\")"
   ]
  }
 ],
 "metadata": {
  "kernelspec": {
   "display_name": "DSC180A-B12",
   "language": "python",
   "name": "python3"
  },
  "language_info": {
   "codemirror_mode": {
    "name": "ipython",
    "version": 3
   },
   "file_extension": ".py",
   "mimetype": "text/x-python",
   "name": "python",
   "nbconvert_exporter": "python",
   "pygments_lexer": "ipython3",
   "version": "3.12.7"
  }
 },
 "nbformat": 4,
 "nbformat_minor": 2
}
